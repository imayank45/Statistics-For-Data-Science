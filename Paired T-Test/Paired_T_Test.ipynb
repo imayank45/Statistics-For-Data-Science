{
  "nbformat": 4,
  "nbformat_minor": 0,
  "metadata": {
    "colab": {
      "provenance": []
    },
    "kernelspec": {
      "name": "python3",
      "display_name": "Python 3"
    },
    "language_info": {
      "name": "python"
    }
  },
  "cells": [
    {
      "cell_type": "code",
      "execution_count": 1,
      "metadata": {
        "id": "LQwVNyLO9kyW"
      },
      "outputs": [],
      "source": [
        "import numpy as np\n",
        "import scipy.stats as stats"
      ]
    },
    {
      "cell_type": "code",
      "source": [
        "# data\n",
        "weight_before = np.array([70, 82, 75, 90, 78, 85, 80, 72, 88, 76])\n",
        "weight_after = np.array([68, 79, 74, 87, 76, 83, 77, 71, 84, 74])"
      ],
      "metadata": {
        "id": "hoaEsAP--E7r"
      },
      "execution_count": 2,
      "outputs": []
    },
    {
      "cell_type": "code",
      "source": [
        "# compute differences\n",
        "differences = weight_before - weight_after"
      ],
      "metadata": {
        "id": "wS1FaPqM-Ks-"
      },
      "execution_count": 3,
      "outputs": []
    },
    {
      "cell_type": "code",
      "source": [
        "# perform the paired t-test\n",
        "t_stat, p_value = stats.ttest_rel(weight_before, weight_after)"
      ],
      "metadata": {
        "id": "0WC71IF8-Vqp"
      },
      "execution_count": 4,
      "outputs": []
    },
    {
      "cell_type": "code",
      "source": [
        "# print results\n",
        "print(\"Paired t-test results:\")\n",
        "print(f\"Mean of Differences: {np.mean(differences):.2f}\")\n",
        "print(f\"Standard Deviation of Differences: {np.std(differences, ddof=1):.2f}\")\n",
        "print(\"t-statistic:\", t_stat)\n",
        "print(\"p-value:\", p_value)"
      ],
      "metadata": {
        "colab": {
          "base_uri": "https://localhost:8080/"
        },
        "id": "zOOzuu3H-qHU",
        "outputId": "934f1017-48c6-413e-c690-484c3c035655"
      },
      "execution_count": 6,
      "outputs": [
        {
          "output_type": "stream",
          "name": "stdout",
          "text": [
            "Paired t-test results:\n",
            "Mean of Differences: 2.30\n",
            "Standard Deviation of Differences: 0.95\n",
            "t-statistic: 7.666666666666666\n",
            "p-value: 3.1047976987198976e-05\n"
          ]
        }
      ]
    },
    {
      "cell_type": "code",
      "source": [
        "# check significance level\n",
        "alpha = 0.05\n",
        "if p_value < alpha:\n",
        "  print(\"Reject null hypothesis\")\n",
        "else:\n",
        "  print(\"Fail to reject null hypothesis\")"
      ],
      "metadata": {
        "colab": {
          "base_uri": "https://localhost:8080/"
        },
        "id": "i2ugdphV-vQq",
        "outputId": "035a9b61-628f-469c-c3c0-969a52fe5b0f"
      },
      "execution_count": 7,
      "outputs": [
        {
          "output_type": "stream",
          "name": "stdout",
          "text": [
            "Reject null hypothesis\n"
          ]
        }
      ]
    },
    {
      "cell_type": "code",
      "source": [],
      "metadata": {
        "id": "OVUm_Bf3_UlQ"
      },
      "execution_count": null,
      "outputs": []
    }
  ]
}