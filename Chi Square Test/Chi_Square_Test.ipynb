{
  "nbformat": 4,
  "nbformat_minor": 0,
  "metadata": {
    "colab": {
      "provenance": []
    },
    "kernelspec": {
      "name": "python3",
      "display_name": "Python 3"
    },
    "language_info": {
      "name": "python"
    }
  },
  "cells": [
    {
      "cell_type": "code",
      "execution_count": 1,
      "metadata": {
        "id": "Hpo_2HlcONLb"
      },
      "outputs": [],
      "source": [
        "import scipy.stats as stats\n",
        "import numpy as np"
      ]
    },
    {
      "cell_type": "code",
      "source": [
        "# Observed frequency table\n",
        "observed = np.array([[40, 10], [30, 20]])\n",
        "\n",
        "# Perform Chi-Square test\n",
        "chi2, p, dof, expected = stats.chi2_contingency(observed)"
      ],
      "metadata": {
        "id": "J61n51poOZ9W"
      },
      "execution_count": 2,
      "outputs": []
    },
    {
      "cell_type": "code",
      "source": [
        "print(f\"Chi-Square Value: {chi2:.2f}\")\n",
        "print(f\"Degrees of Freedom: {dof}\")\n",
        "print(f\"P-Value: {p:.4f}\")\n",
        "print(\"Expected Frequencies:\")\n",
        "print(expected)"
      ],
      "metadata": {
        "colab": {
          "base_uri": "https://localhost:8080/"
        },
        "id": "h1rnyzT2OWiu",
        "outputId": "6a005c99-2ed2-4e72-bd10-571c56503bec"
      },
      "execution_count": 3,
      "outputs": [
        {
          "output_type": "stream",
          "name": "stdout",
          "text": [
            "Chi-Square Value: 3.86\n",
            "Degrees of Freedom: 1\n",
            "P-Value: 0.0495\n",
            "Expected Frequencies:\n",
            "[[35. 15.]\n",
            " [35. 15.]]\n"
          ]
        }
      ]
    },
    {
      "cell_type": "code",
      "source": [
        "# Interpretation\n",
        "alpha = 0.05\n",
        "if p < alpha:\n",
        "    print(\"Reject the null hypothesis: There is a significant relationship between gender and product preference.\")\n",
        "else:\n",
        "    print(\"Fail to reject the null hypothesis: No significant relationship found.\")\n"
      ],
      "metadata": {
        "colab": {
          "base_uri": "https://localhost:8080/"
        },
        "id": "ChNDiQUoOV0s",
        "outputId": "a17aea24-4bc4-4555-e9ee-6cef80eb8c24"
      },
      "execution_count": 4,
      "outputs": [
        {
          "output_type": "stream",
          "name": "stdout",
          "text": [
            "Reject the null hypothesis: There is a significant relationship between gender and product preference.\n"
          ]
        }
      ]
    }
  ]
}