{
  "nbformat": 4,
  "nbformat_minor": 0,
  "metadata": {
    "colab": {
      "provenance": []
    },
    "kernelspec": {
      "name": "python3",
      "display_name": "Python 3"
    },
    "language_info": {
      "name": "python"
    }
  },
  "cells": [
    {
      "cell_type": "code",
      "execution_count": 1,
      "metadata": {
        "id": "LoL8TmMFRe3P"
      },
      "outputs": [],
      "source": [
        "import numpy as np\n",
        "import scipy.stats as stats"
      ]
    },
    {
      "cell_type": "code",
      "source": [
        "# Sample test scores for three different teaching methods\n",
        "method_A = [85, 90, 88, 92, 87, 85, 89, 91]\n",
        "method_B = [78, 82, 80, 79, 81, 77, 83, 80]\n",
        "method_C = [92, 94, 96, 91, 93, 95, 97, 94]"
      ],
      "metadata": {
        "id": "CPSLK9SVR6RB"
      },
      "execution_count": 2,
      "outputs": []
    },
    {
      "cell_type": "code",
      "source": [
        "# perform one-way anova test\n",
        "f_statistic, p_value = stats.f_oneway(method_A, method_B, method_C)"
      ],
      "metadata": {
        "id": "Z6FPCQ-FR-N0"
      },
      "execution_count": 3,
      "outputs": []
    },
    {
      "cell_type": "code",
      "source": [
        "# print results\n",
        "print(\"F-statistic:\", f_statistic)\n",
        "print(\"p-value:\", p_value)"
      ],
      "metadata": {
        "colab": {
          "base_uri": "https://localhost:8080/"
        },
        "id": "xfzts6I8SEmd",
        "outputId": "8cecedb8-2958-407f-fce4-0dc1ed1db909"
      },
      "execution_count": 4,
      "outputs": [
        {
          "output_type": "stream",
          "name": "stdout",
          "text": [
            "F-statistic: 80.26835138387486\n",
            "p-value: 1.4594053761898373e-10\n"
          ]
        }
      ]
    },
    {
      "cell_type": "code",
      "source": [
        "# Interpretation\n",
        "alpha = 0.05  # Significance level\n",
        "if p_value < alpha:\n",
        "    print(\"Reject the null hypothesis: There is a significant difference between the groups.\")\n",
        "else:\n",
        "    print(\"Fail to reject the null hypothesis: No significant difference between the groups.\")"
      ],
      "metadata": {
        "colab": {
          "base_uri": "https://localhost:8080/"
        },
        "id": "YOfHm9tiSIj3",
        "outputId": "58562610-6a40-46ac-fcde-ff6bb33ace2f"
      },
      "execution_count": 5,
      "outputs": [
        {
          "output_type": "stream",
          "name": "stdout",
          "text": [
            "Reject the null hypothesis: There is a significant difference between the groups.\n"
          ]
        }
      ]
    },
    {
      "cell_type": "code",
      "source": [],
      "metadata": {
        "id": "Wp3GQGWJSOyp"
      },
      "execution_count": null,
      "outputs": []
    }
  ]
}