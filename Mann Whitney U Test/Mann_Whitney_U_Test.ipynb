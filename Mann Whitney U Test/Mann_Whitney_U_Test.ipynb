{
  "nbformat": 4,
  "nbformat_minor": 0,
  "metadata": {
    "colab": {
      "provenance": []
    },
    "kernelspec": {
      "name": "python3",
      "display_name": "Python 3"
    },
    "language_info": {
      "name": "python"
    }
  },
  "cells": [
    {
      "cell_type": "code",
      "execution_count": 1,
      "metadata": {
        "id": "29R0DJUpHdf0"
      },
      "outputs": [],
      "source": [
        "import numpy as np\n",
        "from scipy.stats import mannwhitneyu"
      ]
    },
    {
      "cell_type": "code",
      "source": [
        "# dementia data\n",
        "males_dementia_data = [65, 72, 66, 59, 57]\n",
        "females_dementia_data = [62, 65, 57, 72, 59]"
      ],
      "metadata": {
        "id": "cQ51-AhvHuHr"
      },
      "execution_count": 2,
      "outputs": []
    },
    {
      "cell_type": "code",
      "source": [
        "# perform Mann Whitney U Test\n",
        "statistic, p_value = mannwhitneyu(males_dementia_data, females_dementia_data)\n",
        "print(\"Mann Whitney U Test Statistic:\", statistic)\n",
        "print(\"p-value:\", p_value)"
      ],
      "metadata": {
        "colab": {
          "base_uri": "https://localhost:8080/"
        },
        "id": "GtZFp0hqIDNF",
        "outputId": "87542b3f-eac6-4440-c9e5-d741c3af1f7c"
      },
      "execution_count": 6,
      "outputs": [
        {
          "output_type": "stream",
          "name": "stdout",
          "text": [
            "Mann Whitney U Test Statistic: 14.0\n",
            "p-value: 0.8325188126792755\n"
          ]
        }
      ]
    },
    {
      "cell_type": "code",
      "source": [
        "# interpretation\n",
        "alpha = 0.05\n",
        "if p_value < alpha:\n",
        "    print(\"Reject the null hypothesis. There is a significant difference between the two groups.\")\n",
        "else:\n",
        "    print(\"Fail to reject the null hypothesis. There is no significant difference between the two groups.\")"
      ],
      "metadata": {
        "colab": {
          "base_uri": "https://localhost:8080/"
        },
        "id": "zHqQEp9FIOCu",
        "outputId": "db29066b-93ea-475e-9bbf-8ccad08fcd73"
      },
      "execution_count": 5,
      "outputs": [
        {
          "output_type": "stream",
          "name": "stdout",
          "text": [
            "Fail to reject the null hypothesis. There is no significant difference between the two groups.\n"
          ]
        }
      ]
    },
    {
      "cell_type": "code",
      "source": [],
      "metadata": {
        "id": "QY83tR4DIL5H"
      },
      "execution_count": null,
      "outputs": []
    }
  ]
}