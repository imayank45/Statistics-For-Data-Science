{
  "nbformat": 4,
  "nbformat_minor": 0,
  "metadata": {
    "colab": {
      "provenance": []
    },
    "kernelspec": {
      "name": "python3",
      "display_name": "Python 3"
    },
    "language_info": {
      "name": "python"
    }
  },
  "cells": [
    {
      "cell_type": "code",
      "execution_count": 1,
      "metadata": {
        "id": "0u9JoQ9U0BmV"
      },
      "outputs": [],
      "source": [
        "import pandas as pd\n",
        "import statsmodels.api as sm\n",
        "from statsmodels.formula.api import ols"
      ]
    },
    {
      "cell_type": "code",
      "source": [
        "# Sample dataset for Two-Way ANOVA\n",
        "data = {\n",
        "    'Weight_Loss': [3, 4, 5, 6, 2, 3, 7, 4, 6, 5, 3, 2],\n",
        "    'Diet_Type': ['Veg', 'Veg', 'Veg', 'Veg', 'Non-Veg', 'Non-Veg', 'Non-Veg', 'Non-Veg', 'Veg', 'Veg', 'Non-Veg', 'Non-Veg'],\n",
        "    'Exercise_Type': ['None', 'Moderate', 'Intense', 'None', 'Moderate', 'Intense', 'None', 'Moderate', 'Intense', 'None', 'Moderate', 'Intense']\n",
        "}"
      ],
      "metadata": {
        "id": "LuiikDLF0FRo"
      },
      "execution_count": 2,
      "outputs": []
    },
    {
      "cell_type": "code",
      "source": [
        "df = pd.DataFrame(data)\n"
      ],
      "metadata": {
        "id": "YnSnh_200HTV"
      },
      "execution_count": 3,
      "outputs": []
    },
    {
      "cell_type": "code",
      "source": [
        "# Display the dataset\n",
        "print(\"Dataset:\")\n",
        "print(df)"
      ],
      "metadata": {
        "colab": {
          "base_uri": "https://localhost:8080/"
        },
        "id": "TIOHOXkS0J1O",
        "outputId": "694a9e0e-8f67-4724-bdb6-6fdba93d40f7"
      },
      "execution_count": 4,
      "outputs": [
        {
          "output_type": "stream",
          "name": "stdout",
          "text": [
            "Dataset:\n",
            "    Weight_Loss Diet_Type Exercise_Type\n",
            "0             3       Veg          None\n",
            "1             4       Veg      Moderate\n",
            "2             5       Veg       Intense\n",
            "3             6       Veg          None\n",
            "4             2   Non-Veg      Moderate\n",
            "5             3   Non-Veg       Intense\n",
            "6             7   Non-Veg          None\n",
            "7             4   Non-Veg      Moderate\n",
            "8             6       Veg       Intense\n",
            "9             5       Veg          None\n",
            "10            3   Non-Veg      Moderate\n",
            "11            2   Non-Veg       Intense\n"
          ]
        }
      ]
    },
    {
      "cell_type": "code",
      "source": [
        "# Perform Two-Way ANOVA\n",
        "model = ols('Weight_Loss ~ C(Diet_Type) + C(Exercise_Type) + C(Diet_Type):C(Exercise_Type)', data=df).fit()"
      ],
      "metadata": {
        "id": "Ci5nniAU0QUX"
      },
      "execution_count": 5,
      "outputs": []
    },
    {
      "cell_type": "code",
      "source": [
        "anova_table = sm.stats.anova_lm(model, typ=2)\n",
        "print(\"\\nTwo-Way ANOVA Results:\")\n",
        "print(anova_table)\n"
      ],
      "metadata": {
        "colab": {
          "base_uri": "https://localhost:8080/"
        },
        "id": "qQQsu-LV0TAI",
        "outputId": "7050ba1d-f5dd-4663-c744-6917f71c0e35"
      },
      "execution_count": 6,
      "outputs": [
        {
          "output_type": "stream",
          "name": "stdout",
          "text": [
            "\n",
            "Two-Way ANOVA Results:\n",
            "                                  sum_sq   df         F    PR(>F)\n",
            "C(Diet_Type)                    1.600000  1.0  1.252174  0.305925\n",
            "C(Exercise_Type)                4.433333  2.0  1.734783  0.254369\n",
            "C(Diet_Type):C(Exercise_Type)  12.233333  2.0  4.786957  0.057182\n",
            "Residual                        7.666667  6.0       NaN       NaN\n"
          ]
        }
      ]
    },
    {
      "cell_type": "code",
      "source": [
        "# Interpret results correctly\n",
        "print(\"\\nInterpretation:\")\n",
        "for factor in anova_table.index:\n",
        "    p_value = anova_table.loc[factor, 'PR(>F)']\n",
        "    if p_value < 0.05:\n",
        "        print(f\"{factor} has a significant effect (p-value = {p_value:.4f}).\")\n",
        "    else:\n",
        "        print(f\"{factor} does not have a significant effect (p-value = {p_value:.4f}).\")"
      ],
      "metadata": {
        "colab": {
          "base_uri": "https://localhost:8080/"
        },
        "id": "lTrEQOWz0WVf",
        "outputId": "41b74526-20cd-48d6-b482-b21467e9b8a9"
      },
      "execution_count": 8,
      "outputs": [
        {
          "output_type": "stream",
          "name": "stdout",
          "text": [
            "\n",
            "Interpretation:\n",
            "C(Diet_Type) does not have a significant effect (p-value = 0.3059).\n",
            "C(Exercise_Type) does not have a significant effect (p-value = 0.2544).\n",
            "C(Diet_Type):C(Exercise_Type) does not have a significant effect (p-value = 0.0572).\n",
            "Residual does not have a significant effect (p-value = nan).\n"
          ]
        }
      ]
    },
    {
      "cell_type": "code",
      "source": [],
      "metadata": {
        "id": "teQMXnXB10SS"
      },
      "execution_count": null,
      "outputs": []
    }
  ]
}